{
 "cells": [
  {
   "cell_type": "code",
   "execution_count": 1,
   "id": "e7cd7fbf",
   "metadata": {},
   "outputs": [
    {
     "name": "stdout",
     "output_type": "stream",
     "text": [
      "=== Caesar Cipher ===\n",
      "Encrypted message: Khoor Zruog!\n"
     ]
    }
   ],
   "source": [
    "def caesar_cipher_encrypt(text, shift):\n",
    "    encrypted_text = \"\"\n",
    "    for char in text:\n",
    "        if char.isalpha():\n",
    "            base = ord('A') if char.isupper() else ord('a')\n",
    "            encrypted_char = chr((ord(char) - base + shift) % 26 + base)\n",
    "            encrypted_text += encrypted_char\n",
    "        else:\n",
    "            encrypted_text += char\n",
    "    return encrypted_text\n",
    "\n",
    "def caesar_cipher_decrypt(text, shift):\n",
    "    return caesar_cipher_encrypt(text, -shift)\n",
    "\n",
    "def main():\n",
    "    print(\"=== Caesar Cipher ===\")\n",
    "    choice = input(\"Type 'encrypt' to encrypt or 'decrypt' to decrypt: \").lower()\n",
    "    message = input(\"Enter your message: \")\n",
    "    shift = int(input(\"Enter shift value (number): \"))\n",
    "\n",
    "    if choice == 'encrypt':\n",
    "        result = caesar_cipher_encrypt(message, shift)\n",
    "        print(f\"Encrypted message: {result}\")\n",
    "    elif choice == 'decrypt':\n",
    "        result = caesar_cipher_decrypt(message, shift)\n",
    "        print(f\"Decrypted message: {result}\")\n",
    "    else:\n",
    "        print(\"Invalid choice! Please type 'encrypt' or 'decrypt'.\")\n",
    "\n",
    "if __name__ == \"__main__\":\n",
    "    main()\n"
   ]
  }
 ],
 "metadata": {
  "kernelspec": {
   "display_name": "Python 3",
   "language": "python",
   "name": "python3"
  },
  "language_info": {
   "codemirror_mode": {
    "name": "ipython",
    "version": 3
   },
   "file_extension": ".py",
   "mimetype": "text/x-python",
   "name": "python",
   "nbconvert_exporter": "python",
   "pygments_lexer": "ipython3",
   "version": "3.12.9"
  }
 },
 "nbformat": 4,
 "nbformat_minor": 5
}
